{
  "nbformat": 4,
  "nbformat_minor": 0,
  "metadata": {
    "colab": {
      "provenance": [],
      "authorship_tag": "ABX9TyN6H2yRwdYy9u5tO4+QCDhd",
      "include_colab_link": true
    },
    "kernelspec": {
      "name": "python3",
      "display_name": "Python 3"
    },
    "language_info": {
      "name": "python"
    }
  },
  "cells": [
    {
      "cell_type": "markdown",
      "metadata": {
        "id": "view-in-github",
        "colab_type": "text"
      },
      "source": [
        "<a href=\"https://colab.research.google.com/github/nexjiho/technical-discussion/blob/main/technical_docs.ipynb\" target=\"_parent\"><img src=\"https://colab.research.google.com/assets/colab-badge.svg\" alt=\"Open In Colab\"/></a>"
      ]
    },
    {
      "cell_type": "markdown",
      "source": [
        "##ingest\n"
      ],
      "metadata": {
        "id": "Mhdzh3T5Qvof"
      }
    },
    {
      "cell_type": "code",
      "execution_count": 2,
      "metadata": {
        "colab": {
          "base_uri": "https://localhost:8080/",
          "height": 35
        },
        "id": "s1TgMAsjP3fT",
        "outputId": "41e3ad45-f57e-4ac5-aa64-f471cac32f6d"
      },
      "outputs": [
        {
          "output_type": "execute_result",
          "data": {
            "text/plain": [
              "'hi, this is my first line of colab code'"
            ],
            "application/vnd.google.colaboratory.intrinsic+json": {
              "type": "string"
            }
          },
          "metadata": {},
          "execution_count": 2
        }
      ],
      "source": [
        "def hello():\n",
        "    return \"hi, this is my first line of colab code\"\n",
        "hello ()\n"
      ]
    },
    {
      "cell_type": "markdown",
      "source": [
        "## EDA\n"
      ],
      "metadata": {
        "id": "Hcr8DtCtQpAU"
      }
    },
    {
      "cell_type": "code",
      "source": [],
      "metadata": {
        "id": "TFxMovNSRJ6B"
      },
      "execution_count": null,
      "outputs": []
    },
    {
      "cell_type": "markdown",
      "source": [
        "## Modeling"
      ],
      "metadata": {
        "id": "VQPX7pfnQ45E"
      }
    },
    {
      "cell_type": "markdown",
      "source": [
        "## Conclusion\n"
      ],
      "metadata": {
        "id": "AL7Mr1fgQ-oM"
      }
    }
  ]
}